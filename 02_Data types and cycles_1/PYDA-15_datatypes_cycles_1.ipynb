{
 "cells": [
  {
   "cell_type": "markdown",
   "metadata": {},
   "source": [
    "# Домашнее задание «Управляющие конструкции и коллекции» часть 1\n",
    "## Задание 1"
   ]
  },
  {
   "cell_type": "code",
   "execution_count": 23,
   "metadata": {},
   "outputs": [
    {
     "name": "stdout",
     "output_type": "stream",
     "text": [
      "Введите слово test\n",
      "es\n"
     ]
    }
   ],
   "source": [
    "word = str(input('Введите слово '))\n",
    "a = len(word)\n",
    "if a % 2 == 0:\n",
    "    b = a//2 - 1\n",
    "    c = b+2\n",
    "    print(word[b:c])\n",
    "elif a % 2 != 0:\n",
    "    b = a//2\n",
    "    print(word[b])\n",
    "\n",
    "    \n",
    "    \n",
    "\n",
    "        "
   ]
  },
  {
   "cell_type": "markdown",
   "metadata": {},
   "source": [
    "## Задание 2"
   ]
  },
  {
   "cell_type": "code",
   "execution_count": 17,
   "metadata": {},
   "outputs": [
    {
     "name": "stdout",
     "output_type": "stream",
     "text": [
      "Введите одно число 2\n",
      "Введите одно число 2\n",
      "Введите одно число 2\n",
      "Введите одно число 2\n",
      "Введите одно число 0\n",
      "Результат 8\n"
     ]
    }
   ],
   "source": [
    "number = int(input('Введите одно число '))\n",
    "a = 0\n",
    "while number != 0:\n",
    "    a = a + number\n",
    "    number = int(input('Введите одно число '))\n",
    "    continue\n",
    "print ('Результат' ,a)\n"
   ]
  },
  {
   "cell_type": "markdown",
   "metadata": {},
   "source": [
    "## Задание 3\n"
   ]
  },
  {
   "cell_type": "code",
   "execution_count": 95,
   "metadata": {},
   "outputs": [
    {
     "name": "stdout",
     "output_type": "stream",
     "text": [
      "Идеальная пары:\n",
      "Egor and Anna\n",
      "Farthur and Emma\n",
      "John and Kate\n",
      "Kalex and Kira\n",
      "Peter and Liza\n"
     ]
    }
   ],
   "source": [
    "Men = ['Peter', 'Kalex', 'John', 'Farthur', 'Egor']\n",
    "Women = ['Kate', 'Liza', 'Kira', 'Emma', 'Anna']\n",
    "list.sort(Men)\n",
    "list.sort(Women)\n",
    "for i in range (len(Men)):\n",
    "    if len (Men) != len (Women):\n",
    "        print (\"Кто-то останется без пары!\")\n",
    "        break\n",
    "    elif len (Men) == len (Women):\n",
    "        print('Идеальная пары:')\n",
    "        i=i+1\n",
    "    for i in range (len(Women)):\n",
    "        print(Men[i],\"and\", Women [i])\n",
    "        i=i+1\n",
    "    break\n",
    "    if False:\n",
    "        break\n",
    "    \n",
    " \n",
    "\n",
    "    \n",
    "\n",
    " \n",
    "\n",
    "\n",
    "\n",
    "\n",
    "\n",
    "\n",
    "\n",
    "    \n",
    "\n",
    "    \n"
   ]
  },
  {
   "cell_type": "markdown",
   "metadata": {},
   "source": [
    "## Задача 4"
   ]
  },
  {
   "cell_type": "code",
   "execution_count": 152,
   "metadata": {},
   "outputs": [
    {
     "name": "stdout",
     "output_type": "stream",
     "text": [
      "Средняя температура в странах:\n",
      "Thailand 74.0 oC\n",
      "Germany 56.0 oC\n",
      "Russia 38.0 oC\n",
      "Poland 53.0 oC\n"
     ]
    }
   ],
   "source": [
    "countries_temperature = [\n",
    "    ['Thailand', [75.2, 77, 78.8, 73.4, 68, 75.2, 77]],\n",
    "    ['Germany', [57.2, 55.4, 59, 59, 53.6]],\n",
    "    ['Russia', [35.6, 37.4, 39.2, 41, 42.8, 39.2, 35.6]],\n",
    "    ['Poland', [50, 50, 53.6, 57.2, 55.4, 55.4]]\n",
    "]\n",
    "print('Средняя температура в странах:')\n",
    "for i in range (len(countries_temperature)):\n",
    "    for j in range (len(countries_temperature [i][1])):\n",
    "        a = sum (countries_temperature [i][1])//len(countries_temperature [i][1])\n",
    "        print(countries_temperature [i][0], a, 'oC')\n",
    "        break\n",
    "    \n",
    "    "
   ]
  },
  {
   "cell_type": "code",
   "execution_count": null,
   "metadata": {},
   "outputs": [],
   "source": []
  }
 ],
 "metadata": {
  "kernelspec": {
   "display_name": "Python 3",
   "language": "python",
   "name": "python3"
  },
  "language_info": {
   "codemirror_mode": {
    "name": "ipython",
    "version": 3
   },
   "file_extension": ".py",
   "mimetype": "text/x-python",
   "name": "python",
   "nbconvert_exporter": "python",
   "pygments_lexer": "ipython3",
   "version": "3.8.3"
  }
 },
 "nbformat": 4,
 "nbformat_minor": 4
}
