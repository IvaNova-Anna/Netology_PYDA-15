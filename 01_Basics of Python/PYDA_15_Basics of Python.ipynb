{
 "cells": [
  {
   "cell_type": "code",
   "execution_count": null,
   "metadata": {},
   "outputs": [],
   "source": [
    "Phrase1 = \"Казнить, нельзя помиловать!\"\n",
    "Phrase2 = \"To be or not to be\"\n",
    "if len(Phrase1) > len(Phrase2):\n",
    "    print(\"Фраза 1 длиннее фразы 2\")\n",
    "elif len(Phrase1) < len(Phrase2):\n",
    "    print(\"Фраза 2 длинее фразы 1\")\n",
    "else:\n",
    "    print(\"Фразы одинаковой длины\")"
   ]
  },
  {
   "cell_type": "code",
   "execution_count": 5,
   "metadata": {},
   "outputs": [
    {
     "name": "stdout",
     "output_type": "stream",
     "text": [
      "Фраза 2 длинее фразы 1\n"
     ]
    }
   ],
   "source": [
    "Phrase1 = \"Казнить, нельзя помиловать!\"\n",
    "Phrase2 = \"To be or not to be. What is the question!\"\n",
    "if len(Phrase1) > len(Phrase2):\n",
    "    print(\"Фраза 1 длиннее фразы 2\")\n",
    "elif len(Phrase1) < len(Phrase2):\n",
    "    print(\"Фраза 2 длинее фразы 1\")\n",
    "else:\n",
    "    print(\"Фразы одинаковой длины\")"
   ]
  },
  {
   "cell_type": "code",
   "execution_count": 6,
   "metadata": {},
   "outputs": [
    {
     "name": "stdout",
     "output_type": "stream",
     "text": [
      "Фразы одинаковой длины\n"
     ]
    }
   ],
   "source": [
    "Phrase1 = \"Казнить, нельзя помиловать!\"\n",
    "Phrase2 = \"Казнить, нельзя помиловать!\"\n",
    "if len(Phrase1) > len(Phrase2):\n",
    "    print(\"Фраза 1 длиннее фразы 2\")\n",
    "elif len(Phrase1) < len(Phrase2):\n",
    "    print(\"Фраза 2 длинее фразы 1\")\n",
    "else:\n",
    "    print(\"Фразы одинаковой длины\")"
   ]
  },
  {
   "cell_type": "code",
   "execution_count": 1,
   "metadata": {},
   "outputs": [
    {
     "name": "stdout",
     "output_type": "stream",
     "text": [
      "Введите год 1500\n",
      "Високосный год\n"
     ]
    }
   ],
   "source": [
    "year = int(input('Введите год '))\n",
    "if year % 400 == 0:\n",
    "    print('Високосный год')\n",
    "elif year % 4 == 0:\n",
    "    print('Високосный год')\n",
    "elif year % 100 == 0:\n",
    "    print('Обычный год')\n",
    "else:\n",
    "    print('Обычный год')\n",
    "    \n"
   ]
  },
  {
   "cell_type": "code",
   "execution_count": null,
   "metadata": {},
   "outputs": [
    {
     "name": "stdout",
     "output_type": "stream",
     "text": [
      "Введите дату 2020\n"
     ]
    }
   ],
   "source": [
    "date = int(input('Введите дату '))\n",
    "month = (input ('Введите месяц '))\n",
    "if date >= 21 and month == 'Январь' or date <= 19 and month =='Февраль':\n",
    "    print ('Ваш знак зодиака: Водолей')\n",
    "elif date >=20 and month =='Февраль' or date <=20 and month =='Март':\n",
    "    print ('Ваш знак зодиака: Рыба')\n",
    "elif date >=22 and month=='Декабрь' or date<=20 and month=='Январь':\n",
    "    print ('Ваш знак зодиака: Козерог')\n",
    "elif date >=22 and month=='Ноябрь' or date<=21 and month=='Декабрь':\n",
    "    print ('Ваш знак зодиака: Стрелец')\n",
    "elif date >=23 and month=='Октябрь' or date<=21 and month=='Ноябрь':\n",
    "    print ('Ваш знак зодиака: Скорпион')\n",
    "elif date >=23 and month=='Сентябрь' or date<=22 and month=='Октябрь':\n",
    "    print ('Ваш знак зодиака: Весы')\n",
    "elif date >=24 and month=='Август' or date<=22 and month=='Сентябрь':\n",
    "    print ('Ваш знак зодиака: Дева')\n",
    "elif date >=23 and month=='Июль' or date<=23 and month=='Август':\n",
    "    print ('Ваш знак зодиака: Лев')\n",
    "elif date >=22 and month=='Июнь' or date<=22 and month=='Июль':\n",
    "    print ('Ваш знак зодиака: Рак')\n",
    "elif date >=22 and month=='Май' or date<=21 and month=='Июнь':\n",
    "    print ('Ваш знак зодиака: Близнецы')\n",
    "elif date >=21 and month=='Апрель' or date<=21 and month=='Май':\n",
    "    print ('Ваш знак зодиака: Телец')\n",
    "else:\n",
    "    print ('Ваш знак зодиака: Овен')\n",
    "\n"
   ]
  },
  {
   "cell_type": "code",
   "execution_count": 2,
   "metadata": {},
   "outputs": [
    {
     "name": "stdout",
     "output_type": "stream",
     "text": [
      "Введите ширину в см 45\n",
      "Введите длину в см 205\n",
      "Введите высоту в см 45\n",
      "Упаковка для лыж\n"
     ]
    }
   ],
   "source": [
    "width = int(input0('Введите ширину в см '))\n",
    "length = int(input('Введите длину в см '))\n",
    "height = int(input ('Введите высоту в см '))\n",
    "if width <= 15 and length <= 15 and height <= 15:\n",
    "    print('Коробка №1')\n",
    "elif((width > 15 and width <=50 or height > 15 and height <= 50) and (length > 15 and length <= 50)):\n",
    "    print('Коробка №2')\n",
    "elif length >= 200:\n",
    "    print('Упаковка для лыж')\n",
    "else:\n",
    "    print('Стандартная коробка №3')\n",
    "    "
   ]
  },
  {
   "cell_type": "code",
   "execution_count": 33,
   "metadata": {},
   "outputs": [
    {
     "name": "stdout",
     "output_type": "stream",
     "text": [
      "Введите шестизначный номер билета 235235\n",
      "Поздравляю, у Вас счастливый билет!\n"
     ]
    }
   ],
   "source": [
    "ticket_number = int(input( 'Введите шестизначный номер билета '))\n",
    "\n",
    "ticket_number1 = ticket_number//100000\n",
    "ticket_number2 = (ticket_number%100000)//10000\n",
    "ticket_number3 = (ticket_number%10000)//1000\n",
    "ticket_number4 = (ticket_number%1000)//100\n",
    "ticket_number5 = (ticket_number%100)//10\n",
    "ticket_number6 = (ticket_number%10)\n",
    "if ticket_number1+ticket_number2+ticket_number3 == ticket_number4+ticket_number5+ticket_number6:\n",
    "    print('Поздравляю, у Вас счастливый билет!')\n",
    "else:\n",
    "    print('Увы, удача Вам обязательно улыбнется, но в другой раз!')\n",
    "\n"
   ]
  },
  {
   "cell_type": "code",
   "execution_count": 46,
   "metadata": {},
   "outputs": [
    {
     "name": "stdout",
     "output_type": "stream",
     "text": [
      "Введите фигуру: круг, треугольник или прямоугольник? прямоугольник\n",
      "Введите длину строны a 4\n",
      "Введите длину строны b 4\n",
      "Площадь прямоугольника= 16\n"
     ]
    }
   ],
   "source": [
    "figure = input('Введите фигуру: круг, треугольник или прямоугольник? ')\n",
    "if figure == ('круг'):\n",
    "    radius = int(input('Введите радиус круга '))\n",
    "    print('Площадь круга=',3.14 * radius)\n",
    "elif figure == ('треугольник'):\n",
    "    l1 = int(input('Введите длину строны a '))\n",
    "    l2 = int(input('Введите длину строны b '))\n",
    "    l3 = int(input('Введите длину строны c '))\n",
    "    p = (l1 + l2 + l3) / 2\n",
    "    print('Площадь треугольника=',(((p-l1)*(p-l2)*(p-l3)*p)*0.5))\n",
    "elif figure == ('прямоугольник'):\n",
    "    l1 = int(input('Введите длину строны a '))\n",
    "    l2 = int(input('Введите длину строны b '))\n",
    "    print('Площадь прямоугольника=',l1*l2)\n"
   ]
  },
  {
   "cell_type": "code",
   "execution_count": null,
   "metadata": {},
   "outputs": [],
   "source": []
  }
 ],
 "metadata": {
  "kernelspec": {
   "display_name": "Python 3",
   "language": "python",
   "name": "python3"
  },
  "language_info": {
   "codemirror_mode": {
    "name": "ipython",
    "version": 3
   },
   "file_extension": ".py",
   "mimetype": "text/x-python",
   "name": "python",
   "nbconvert_exporter": "python",
   "pygments_lexer": "ipython3",
   "version": "3.8.3"
  }
 },
 "nbformat": 4,
 "nbformat_minor": 4
}
