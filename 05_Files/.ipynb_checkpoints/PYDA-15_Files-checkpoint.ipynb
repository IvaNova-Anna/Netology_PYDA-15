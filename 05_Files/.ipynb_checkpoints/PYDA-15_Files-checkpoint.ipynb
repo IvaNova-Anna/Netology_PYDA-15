{
 "cells": [
  {
   "cell_type": "markdown",
   "metadata": {},
   "source": [
    "## Домашнее задание к лекции Работа с файловой системой и модули\n"
   ]
  },
  {
   "cell_type": "markdown",
   "metadata": {},
   "source": [
    "### Задание 1\n",
    "\n",
    "Переведите содержимое файла purchase_log.txt в словарь purchases вида:\n",
    "{‘1840e0b9d4’: ‘Продукты’, …}"
   ]
  },
  {
   "cell_type": "code",
   "execution_count": 1,
   "metadata": {},
   "outputs": [],
   "source": [
    "import json\n",
    "with open('F:\\\\Netology_PYDA-15\\\\05_Files\\\\purchase_log.txt', encoding='utf-8') as f:\n",
    "    new_dict={}\n",
    "    for line in f:\n",
    "        line = line.strip()\n",
    "        dict_ = json.loads(line)\n",
    "        new_dict.update ({dict_['user_id']:dict_['category']})"
   ]
  },
  {
   "cell_type": "code",
   "execution_count": 12,
   "metadata": {},
   "outputs": [],
   "source": [
    "with open ('F:\\\\Netology_PYDA-15\\\\05_Files\\\\visit_log.csv', 'r') as f:\n",
    "    with open('funnel.csv', 'w') as f2write:\n",
    "         for row in f:\n",
    "                line_list=row.strip().split(',')\n",
    "                if line_list[0] in new_dict.keys():\n",
    "                    line_list.append(new_dict[line_list[0]])\n",
    "                    add_line=','.join(line_list)\n",
    "                elif line_list[0]=='user_id':\n",
    "                    line_list.append('category')\n",
    "                    add_line=','.join(line_list)\n",
    "                else:\n",
    "                    add_line=','.join(line_list)\n",
    "                    f2write.write(add_line+'\\\\n')\n",
    "            \n",
    "\n",
    "#         for line in f:\n",
    "#             line=line.strip().split(',')\n",
    "#             user_id, source = line\n",
    "            "
   ]
  },
  {
   "cell_type": "code",
   "execution_count": 2,
   "metadata": {},
   "outputs": [
    {
     "name": "stderr",
     "output_type": "stream",
     "text": [
      "IOPub data rate exceeded.\n",
      "The notebook server will temporarily stop sending output\n",
      "to the client in order to avoid crashing it.\n",
      "To change this limit, set the config variable\n",
      "`--NotebookApp.iopub_data_rate_limit`.\n",
      "\n",
      "Current values:\n",
      "NotebookApp.iopub_data_rate_limit=1000000.0 (bytes/sec)\n",
      "NotebookApp.rate_limit_window=3.0 (secs)\n",
      "\n"
     ]
    }
   ],
   "source": []
  },
  {
   "cell_type": "code",
   "execution_count": null,
   "metadata": {},
   "outputs": [],
   "source": []
  }
 ],
 "metadata": {
  "kernelspec": {
   "display_name": "Python 3",
   "language": "python",
   "name": "python3"
  },
  "language_info": {
   "codemirror_mode": {
    "name": "ipython",
    "version": 3
   },
   "file_extension": ".py",
   "mimetype": "text/x-python",
   "name": "python",
   "nbconvert_exporter": "python",
   "pygments_lexer": "ipython3",
   "version": "3.8.3"
  }
 },
 "nbformat": 4,
 "nbformat_minor": 4
}
