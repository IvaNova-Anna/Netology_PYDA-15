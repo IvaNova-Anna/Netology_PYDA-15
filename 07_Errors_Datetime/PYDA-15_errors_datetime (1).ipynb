{
 "cells": [
  {
   "cell_type": "markdown",
   "metadata": {},
   "source": [
    "## Домашнее задание к лекции «Исключения и обработка ошибок»"
   ]
  },
  {
   "cell_type": "markdown",
   "metadata": {},
   "source": [
    "### Задание 1\n",
    "Печатные газеты использовали свой формат дат для каждого выпуска. Для каждой газеты из списка напишите формат указанной даты для перевода в объект datetime:\n",
    "The Moscow Times - Wednesday, October 2, 2002\n",
    "The Guardian - Friday, 11.10.13\n",
    "Daily News - Thursday, 18 August 1977"
   ]
  },
  {
   "cell_type": "code",
   "execution_count": 2,
   "metadata": {},
   "outputs": [
    {
     "data": {
      "text/plain": [
       "datetime.datetime(2002, 10, 2, 0, 0)"
      ]
     },
     "execution_count": 2,
     "metadata": {},
     "output_type": "execute_result"
    }
   ],
   "source": [
    "#The Moscow Times - Wednesday, October 2, 2002\n",
    "from datetime import datetime\n",
    "date_datetime=datetime.strptime ('Wednesday, October 2, 2002', '%A, %B %d, %Y')\n",
    "date_datetime"
   ]
  },
  {
   "cell_type": "code",
   "execution_count": 3,
   "metadata": {},
   "outputs": [
    {
     "data": {
      "text/plain": [
       "datetime.datetime(2013, 10, 11, 0, 0)"
      ]
     },
     "execution_count": 3,
     "metadata": {},
     "output_type": "execute_result"
    }
   ],
   "source": [
    "#The Guardian - Friday, 11.10.13\n",
    "date_datetime=datetime.strptime ('Friday, 11.10.13', '%A, %d.%m.%y')\n",
    "date_datetime"
   ]
  },
  {
   "cell_type": "code",
   "execution_count": 5,
   "metadata": {},
   "outputs": [
    {
     "data": {
      "text/plain": [
       "datetime.datetime(1977, 8, 18, 0, 0)"
      ]
     },
     "execution_count": 5,
     "metadata": {},
     "output_type": "execute_result"
    }
   ],
   "source": [
    "#Daily News - Thursday, 18 August 1977\n",
    "date_datetime=datetime.strptime ('Thursday, 18 August 1977', '%A, %d %B %Y')\n",
    "date_datetime"
   ]
  },
  {
   "cell_type": "markdown",
   "metadata": {},
   "source": [
    "### Задание 2\n",
    "Дан поток дат в формате YYYY-MM-DD, в которых встречаются некорректные значения:\n",
    "stream = [‘2018-04-02’, ‘2018-02-29’, ‘2018-19-02’]\n",
    "\n",
    "Напишите функцию, которая проверяет эти даты на корректность. Т. е. для каждой даты возвращает True (дата корректна) или False (некорректная дата)"
   ]
  },
  {
   "cell_type": "code",
   "execution_count": 33,
   "metadata": {},
   "outputs": [
    {
     "name": "stdout",
     "output_type": "stream",
     "text": [
      "2018-04-02 00:00:00 True\n",
      "2018-04-02 00:00:00 False\n",
      "2018-04-02 00:00:00 False\n"
     ]
    }
   ],
   "source": [
    "stream = ['2018-04-02', '2018-02-29', '2018-19-02']\n",
    "for item in stream:\n",
    "    try:\n",
    "        item_datetime = datetime.strptime(item,'%Y-%m-%d')\n",
    "        print (item_datetime, True)\n",
    "    except:\n",
    "        print (item_datetime, False)"
   ]
  },
  {
   "cell_type": "markdown",
   "metadata": {},
   "source": [
    "### Задание 3\n",
    "Напишите функцию date_range, которая возвращает список дат за период от start_date до end_date. Даты должны вводиться в формате YYYY-MM-DD. В случае неверного формата или при start_date > end_date должен возвращаться пустой список."
   ]
  },
  {
   "cell_type": "code",
   "execution_count": 72,
   "metadata": {},
   "outputs": [
    {
     "name": "stdout",
     "output_type": "stream",
     "text": [
      "Введите дату в формате YYYY-MM-DD2018-02-02\n",
      "Введите дату в формате YYYY-MM-DD2018-31-02\n",
      "Ошибка в формате даты []\n"
     ]
    }
   ],
   "source": [
    "from datetime import timedelta\n",
    "start_date = input ('Введите дату в формате YYYY-MM-DD')\n",
    "end_date = input ('Введите дату в формате YYYY-MM-DD')\n",
    "date_list=[]\n",
    "def date_range ():\n",
    "    try:\n",
    "        start_date_datetime = datetime.strptime(start_date,'%Y-%m-%d')\n",
    "        end_date_datetime = datetime.strptime(end_date,'%Y-%m-%d')\n",
    "        if start_date_datetime>end_date_datetime:\n",
    "            print(date_list)\n",
    "        else:\n",
    "            while start_date_datetime <=end_date_datetime:\n",
    "                date_list.append(start_date_datetime.strftime('%Y-%m-%d'))\n",
    "                start_date_datetime += timedelta(days=1)\n",
    "            print('\\n'.join(date_list))\n",
    "    except:\n",
    "        print('Ошибка в формате даты', date_list)\n",
    "date_range ()\n"
   ]
  },
  {
   "cell_type": "code",
   "execution_count": null,
   "metadata": {},
   "outputs": [],
   "source": []
  },
  {
   "cell_type": "code",
   "execution_count": null,
   "metadata": {},
   "outputs": [],
   "source": []
  }
 ],
 "metadata": {
  "kernelspec": {
   "display_name": "Python 3",
   "language": "python",
   "name": "python3"
  },
  "language_info": {
   "codemirror_mode": {
    "name": "ipython",
    "version": 3
   },
   "file_extension": ".py",
   "mimetype": "text/x-python",
   "name": "python",
   "nbconvert_exporter": "python",
   "pygments_lexer": "ipython3",
   "version": "3.8.3"
  }
 },
 "nbformat": 4,
 "nbformat_minor": 4
}
