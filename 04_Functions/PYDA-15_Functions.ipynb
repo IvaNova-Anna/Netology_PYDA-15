{
 "cells": [
  {
   "cell_type": "markdown",
   "metadata": {},
   "source": [
    "# Домашнее задание к лекции «Функции»\n",
    "## Задание 1"
   ]
  },
  {
   "cell_type": "code",
   "execution_count": 15,
   "metadata": {},
   "outputs": [
    {
     "name": "stdout",
     "output_type": "stream",
     "text": [
      "Введите команду ds\n",
      "Введите номер полки: 3\n",
      "Полка удалена. Текущий перечень полок: 1,2\n",
      "Введите команду q\n"
     ]
    }
   ],
   "source": [
    "documents = [\n",
    " {'type': 'passport', 'number': '2207 876234', 'name': 'Василий Гупкин'},\n",
    " {'type': 'invoice', 'number': '11-2', 'name': 'Геннадий Покемонов'},\n",
    " {'type': 'insurance', 'number': '10006', 'name': 'Аристарх Павлов'}\n",
    "]\n",
    "directories = {\n",
    " '1': ['2207 876234', '11-2'],\n",
    " '2': ['10006'],\n",
    " '3': []\n",
    "}\n",
    "branch_del = 0\n",
    "branch_add = 0\n",
    "n = 0\n",
    "\n",
    "def get_name(documents, n):#функция выводит имя\n",
    "    n = input('Введите номер документа ')\n",
    "    for i in documents:\n",
    "        dictionary = i\n",
    "        if dictionary['number'] == n:\n",
    "            return dictionary['name']\n",
    "    else:\n",
    "        return ('Документ не найден в базе')\n",
    "\n",
    "def get_key(directories, n):#функция выводоит номер полка\n",
    "    n = input('Введите номер документа ')\n",
    "    for k, v in directories.items():\n",
    "        for i in v:\n",
    "            if i == str(n):\n",
    "                return k\n",
    "\n",
    "def all_info():#функция выводит всю информацию\n",
    "    for i in documents:\n",
    "        dictionary = i\n",
    "        number = dictionary['number']\n",
    "        for k, v in directories.items():\n",
    "            for i in v:\n",
    "                if i == number:\n",
    "                    dictionary.update({'branch':k})\n",
    "        print ('№: ',dictionary['number'],', тип: ',dictionary['type'], ', владелец: ',dictionary['name'], ', полка номер: ', dictionary['branch'], sep='')\n",
    "\n",
    "def add_branch_number ():#функция добавляет полку\n",
    "    number = input('Введите номер полки: ')\n",
    "    if number in list(directories.keys()):\n",
    "        print('Такая полка уже есть!')\n",
    "    else:\n",
    "        directories.update({number:[]})\n",
    "        print(f'Полка добавлена. Текущий перечень полок: {\",\".join(directories.keys())}')\n",
    "    \n",
    "def del_branch():\n",
    "    number = input('Введите номер полки: ')\n",
    "    if number in list(directories.keys()) and directories[number] == []:\n",
    "        del directories[number]\n",
    "        print(f'Полка удалена. Текущий перечень полок: {\",\".join(directories.keys())}')\n",
    "    elif number in directories and directories[number] != []:\n",
    "        print('Полка не свободна')\n",
    "    else:\n",
    "        print('Такой полки не существует')\n",
    "        \n",
    "def command_request():\n",
    "    if command == ('l'):\n",
    "        all_info()\n",
    "    elif command == ('abs'):\n",
    "        add_branch_number ()\n",
    "    elif command == ('ds'):\n",
    "        del_branch()\n",
    "    elif command == ('p'):\n",
    "        print('Владелец документа:', get_name(documents, n))\n",
    "    elif command == ('s'):\n",
    "        print('Данные хранятся на полке:', get_key(directories, n))\n",
    "    else:\n",
    "        print('Неверная команда')\n",
    "        \n",
    "while True:\n",
    "    command = input('Введите команду ')\n",
    "    if command == ('q'):\n",
    "        break\n",
    "    else:\n",
    "        command_request()\n",
    "    \n",
    "        \n",
    "    \n",
    "   \n",
    "\n",
    "\n"
   ]
  },
  {
   "cell_type": "code",
   "execution_count": null,
   "metadata": {},
   "outputs": [],
   "source": []
  },
  {
   "cell_type": "code",
   "execution_count": null,
   "metadata": {},
   "outputs": [],
   "source": []
  },
  {
   "cell_type": "code",
   "execution_count": null,
   "metadata": {},
   "outputs": [],
   "source": []
  }
 ],
 "metadata": {
  "kernelspec": {
   "display_name": "Python 3",
   "language": "python",
   "name": "python3"
  },
  "language_info": {
   "codemirror_mode": {
    "name": "ipython",
    "version": 3
   },
   "file_extension": ".py",
   "mimetype": "text/x-python",
   "name": "python",
   "nbconvert_exporter": "python",
   "pygments_lexer": "ipython3",
   "version": "3.8.3"
  }
 },
 "nbformat": 4,
 "nbformat_minor": 4
}
