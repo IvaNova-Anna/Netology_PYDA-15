{
 "cells": [
  {
   "cell_type": "markdown",
   "metadata": {},
   "source": [
    "# Домашнее задание к лекции «Функции»\n",
    "## Задание 1"
   ]
  },
  {
   "cell_type": "code",
   "execution_count": 44,
   "metadata": {},
   "outputs": [
    {
     "name": "stdout",
     "output_type": "stream",
     "text": [
      "Введите команду abs\n",
      "Введите номер полки 10\n",
      "Полка добавлена. Текущий перечень полок: 1,2,3,10\n",
      "Введите команду p\n",
      "Введите номер документа 10006\n",
      "Владелец документа: Аристарх Павлов\n",
      "Введите команду s\n",
      "Введите номер документа 10006\n",
      "Данные хранятся на полке: 2\n",
      "Введите команду l\n",
      "№: 2207 876234, тип: passport, владелец: Василий Гупкин, полка номер: 1\n",
      "№: 11-2, тип: invoice, владелец: Геннадий Покемонов, полка номер: 1\n",
      "№: 10006, тип: insurance, владелец: Аристарх Павлов, полка номер: 2\n",
      "Введите команду ds\n",
      "Введите номер полки 10\n",
      "Полка удалена. Текущий перечень полок: 1,2\n",
      "Введите команду abs\n",
      "Введите номер полки 3\n",
      "Полка добавлена. Текущий перечень полок: 1,2,3\n",
      "Введите команду q\n"
     ]
    }
   ],
   "source": [
    "documents = [\n",
    " {'type': 'passport', 'number': '2207 876234', 'name': 'Василий Гупкин'},\n",
    " {'type': 'invoice', 'number': '11-2', 'name': 'Геннадий Покемонов'},\n",
    " {'type': 'insurance', 'number': '10006', 'name': 'Аристарх Павлов'}\n",
    "]\n",
    "directories = {\n",
    " '1': ['2207 876234', '11-2'],\n",
    " '2': ['10006'],\n",
    " '3': []\n",
    "}\n",
    "branch_del = 0\n",
    "branch_add = 0\n",
    "\n",
    "def get_name(documents, n):#функция выводит имя\n",
    "    n = str(input('Введите номер документа '))\n",
    "    for i in documents:\n",
    "        dict = i\n",
    "        if dict['number'] == n:\n",
    "            return dict['name']\n",
    "    else:\n",
    "        return ('Документ не найден в базе')\n",
    "\n",
    "def get_key(directories, n):#функция выводоит номер полка\n",
    "    n = str(input('Введите номер документа '))\n",
    "    for k, v in directories.items():\n",
    "        for i in v:\n",
    "            if i == str(n):\n",
    "                return k\n",
    "\n",
    "def all_info():#функция выводит всю информацию\n",
    "    for i in documents:\n",
    "        dict = i\n",
    "        number = dict['number']\n",
    "        for k, v in directories.items():\n",
    "            for i in v:\n",
    "                if i == number:\n",
    "                    dict.update({'branch':k})\n",
    "        print ('№: ',dict['number'],', тип: ',dict['type'], ', владелец: ',dict['name'], ', полка номер: ', dict['branch'], sep='')\n",
    "\n",
    "def add_branch_number (directories, branch_add):#функция добавляет полку\n",
    "    branch_add = str(input('Введите номер полки '))\n",
    "    directories.update({branch_add:[]})\n",
    "    print(f'Полка добавлена. Текущий перечень полок: {\",\".join(list(directories.keys()))}') #set нужно заменить \n",
    "\n",
    "def del_branch(directories, branch_del):\n",
    "    branch_del = str(input('Введите номер полки '))\n",
    "    if branch_del in directories:\n",
    "        empty_keys = [k for k,v in directories.items() if not v]\n",
    "        for k in empty_keys:\n",
    "            del directories[k]\n",
    "    print(f'Полка удалена. Текущий перечень полок: {\",\".join(list(directories.keys()))}')\n",
    "while True:\n",
    "    command = input('Введите команду ')\n",
    "    if command == ('q'):\n",
    "        break\n",
    "    elif command == ('l'):\n",
    "        all_info()\n",
    "    elif command == ('abs'):\n",
    "        add_branch_number (directories, branch_add)\n",
    "    elif command == ('ds'):\n",
    "        del_branch(directories, branch_del)\n",
    "    elif command == ('p'):\n",
    "        print('Владелец документа:', get_name(documents, n))\n",
    "    elif command == ('s'):\n",
    "        print('Данные хранятся на полке:', get_key(directories, n))\n",
    "    else:\n",
    "        print('Неверная команда')\n",
    "   \n",
    "        \n",
    "    \n",
    "   \n",
    "\n",
    "\n"
   ]
  },
  {
   "cell_type": "code",
   "execution_count": null,
   "metadata": {},
   "outputs": [],
   "source": []
  },
  {
   "cell_type": "code",
   "execution_count": null,
   "metadata": {},
   "outputs": [],
   "source": []
  },
  {
   "cell_type": "code",
   "execution_count": null,
   "metadata": {},
   "outputs": [],
   "source": []
  }
 ],
 "metadata": {
  "kernelspec": {
   "display_name": "Python 3",
   "language": "python",
   "name": "python3"
  },
  "language_info": {
   "codemirror_mode": {
    "name": "ipython",
    "version": 3
   },
   "file_extension": ".py",
   "mimetype": "text/x-python",
   "name": "python",
   "nbconvert_exporter": "python",
   "pygments_lexer": "ipython3",
   "version": "3.8.3"
  }
 },
 "nbformat": 4,
 "nbformat_minor": 4
}
